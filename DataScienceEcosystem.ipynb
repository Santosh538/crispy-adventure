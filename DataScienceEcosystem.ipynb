{
 "cells": [
  {
   "cell_type": "markdown",
   "id": "bbaa6b3a-1942-4346-90a2-76a15b01b573",
   "metadata": {},
   "source": [
    "<h1>Data Science Tools and Ecosystem<h1>\n"
   ]
  },
  {
   "cell_type": "markdown",
   "id": "e24bc436-26f6-44d3-8428-83c3bae8ce1f",
   "metadata": {},
   "source": [
    "In this notebook,Data Science Tools and Ecosystem are summarized."
   ]
  },
  {
   "cell_type": "markdown",
   "id": "e6fb59a2-349f-4262-83bc-5e1215b5c3eb",
   "metadata": {},
   "source": [
    "<b>Objectives:</b>\n",
    "<ul>\n",
    "    <li>Understand the data science tools and ecosystem.</li>\n",
    "    <li>Identify popular languages used in data science.</li>\n",
    "    <li>Explore commonly used libraries in data science.</li>\n",
    "    <li>Familiarize yourself with open-source data science tools.</li>\n",
    "    <li>Perform arithmetic operations using Python.</li>\n",
    "</ul>"
   ]
  },
  {
   "cell_type": "markdown",
   "id": "00f1b6d1-c331-4eb2-a1e8-8239c8bd7ca3",
   "metadata": {},
   "source": [
    "Some of the popular languages that Data Scientists use are:\n",
    "<dd>1.Python</dd>\n",
    "<dd>2.R</dd>\n",
    "<dd>3.SQL(Structured Query Language)</dd>\n"
   ]
  },
  {
   "cell_type": "markdown",
   "id": "49cd2c1a-6a09-4554-8695-2a1fbae9c417",
   "metadata": {},
   "source": [
    "Some of the commonly used libraries used by Data Scientists include:\n",
    "<dd>1.Pandas</dd>\n",
    "<dd>2.NumPy </dd>\n",
    "<dd>3.SciPy</dd>\n",
    "<dd>4.Matplotlib</dd>\n",
    "<dd>5.ggplot</dd>\n",
    "<dd>6.dplyr</dd>\n",
    "<dd>7.caret</dd>\n",
    "\n"
   ]
  },
  {
   "cell_type": "markdown",
   "id": "d6263d84-349f-4a5f-9313-c75c9caa2d35",
   "metadata": {},
   "source": [
    "|Data Science Tools|\n",
    "|------------------|\n",
    "|MySQL and PostgreSQL|\n",
    "|MongoDB|\n",
    "|Hadoop File System|"
   ]
  },
  {
   "cell_type": "markdown",
   "id": "dfb6b57e-e22f-49a8-8ce2-476efc38fcf9",
   "metadata": {},
   "source": [
    "<h3>Below are a few examples of evaluating arithmetic expressions in Python.<h3>"
   ]
  },
  {
   "cell_type": "code",
   "execution_count": 2,
   "id": "fcc3fb85-d9bf-4c09-957b-c55766b4990a",
   "metadata": {
    "tags": []
   },
   "outputs": [
    {
     "data": {
      "text/plain": [
       "17"
      ]
     },
     "execution_count": 2,
     "metadata": {},
     "output_type": "execute_result"
    }
   ],
   "source": [
    "#This a simple arithmetic expression to mutiply then add integers\n",
    "\n",
    "(3*4)+5\n"
   ]
  },
  {
   "cell_type": "code",
   "execution_count": 3,
   "id": "0af5fecb-3f80-4042-8cff-c2ad96cf9fe6",
   "metadata": {
    "tags": []
   },
   "outputs": [
    {
     "name": "stdout",
     "output_type": "stream",
     "text": [
      "3.3333333333333335\n"
     ]
    }
   ],
   "source": [
    "# This will convert 200 minutes to hours by diving by 60\n",
    "min=200/60\n",
    "print(min)"
   ]
  },
  {
   "cell_type": "markdown",
   "id": "af804fe6-adf4-47a7-98f6-53fd1a141520",
   "metadata": {},
   "source": [
    "<h2>Author</h2>\n",
    "Santosh Shukla\n",
    "    "
   ]
  },
  {
   "cell_type": "code",
   "execution_count": null,
   "id": "9db37f74-8ab8-4ed0-a446-98eeccf241ee",
   "metadata": {},
   "outputs": [],
   "source": []
  }
 ],
 "metadata": {
  "kernelspec": {
   "display_name": "Python",
   "language": "python",
   "name": "conda-env-python-py"
  },
  "language_info": {
   "codemirror_mode": {
    "name": "ipython",
    "version": 3
   },
   "file_extension": ".py",
   "mimetype": "text/x-python",
   "name": "python",
   "nbconvert_exporter": "python",
   "pygments_lexer": "ipython3",
   "version": "3.7.12"
  }
 },
 "nbformat": 4,
 "nbformat_minor": 5
}
